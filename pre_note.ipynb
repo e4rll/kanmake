{
 "cells": [
  {
   "cell_type": "markdown",
   "metadata": {},
   "source": [
    "# 分散分析 お試しver."
   ]
  },
  {
   "cell_type": "code",
   "execution_count": 3,
   "metadata": {},
   "outputs": [],
   "source": [
    "dat <- read.csv(\"input/ch06one-way.csv\", header=TRUE, fileEncoding=\"CP932\")"
   ]
  },
  {
   "cell_type": "code",
   "execution_count": 2,
   "metadata": {
    "collapsed": true,
    "jupyter": {
     "outputs_hidden": true
    }
   },
   "outputs": [
    {
     "data": {
      "text/html": [
       "<table>\n",
       "<caption>A data.frame: 87 × 2</caption>\n",
       "<thead>\n",
       "\t<tr><th scope=col>Class</th><th scope=col>Score</th></tr>\n",
       "\t<tr><th scope=col>&lt;int&gt;</th><th scope=col>&lt;int&gt;</th></tr>\n",
       "</thead>\n",
       "<tbody>\n",
       "\t<tr><td>1</td><td>76</td></tr>\n",
       "\t<tr><td>1</td><td>54</td></tr>\n",
       "\t<tr><td>1</td><td>62</td></tr>\n",
       "\t<tr><td>1</td><td>46</td></tr>\n",
       "\t<tr><td>1</td><td>53</td></tr>\n",
       "\t<tr><td>1</td><td>64</td></tr>\n",
       "\t<tr><td>1</td><td>42</td></tr>\n",
       "\t<tr><td>1</td><td>96</td></tr>\n",
       "\t<tr><td>1</td><td>87</td></tr>\n",
       "\t<tr><td>1</td><td>92</td></tr>\n",
       "\t<tr><td>1</td><td>89</td></tr>\n",
       "\t<tr><td>1</td><td>63</td></tr>\n",
       "\t<tr><td>1</td><td>39</td></tr>\n",
       "\t<tr><td>1</td><td>30</td></tr>\n",
       "\t<tr><td>1</td><td>85</td></tr>\n",
       "\t<tr><td>1</td><td>31</td></tr>\n",
       "\t<tr><td>1</td><td>60</td></tr>\n",
       "\t<tr><td>1</td><td>63</td></tr>\n",
       "\t<tr><td>1</td><td>94</td></tr>\n",
       "\t<tr><td>1</td><td>29</td></tr>\n",
       "\t<tr><td>1</td><td>47</td></tr>\n",
       "\t<tr><td>1</td><td>53</td></tr>\n",
       "\t<tr><td>1</td><td>33</td></tr>\n",
       "\t<tr><td>1</td><td>56</td></tr>\n",
       "\t<tr><td>1</td><td>46</td></tr>\n",
       "\t<tr><td>1</td><td>97</td></tr>\n",
       "\t<tr><td>1</td><td>54</td></tr>\n",
       "\t<tr><td>1</td><td>43</td></tr>\n",
       "\t<tr><td>1</td><td>79</td></tr>\n",
       "\t<tr><td>2</td><td>56</td></tr>\n",
       "\t<tr><td>⋮</td><td>⋮</td></tr>\n",
       "\t<tr><td>2</td><td>65</td></tr>\n",
       "\t<tr><td>3</td><td>57</td></tr>\n",
       "\t<tr><td>3</td><td>39</td></tr>\n",
       "\t<tr><td>3</td><td>84</td></tr>\n",
       "\t<tr><td>3</td><td>63</td></tr>\n",
       "\t<tr><td>3</td><td>84</td></tr>\n",
       "\t<tr><td>3</td><td>54</td></tr>\n",
       "\t<tr><td>3</td><td>86</td></tr>\n",
       "\t<tr><td>3</td><td>50</td></tr>\n",
       "\t<tr><td>3</td><td>93</td></tr>\n",
       "\t<tr><td>3</td><td>30</td></tr>\n",
       "\t<tr><td>3</td><td>63</td></tr>\n",
       "\t<tr><td>3</td><td>66</td></tr>\n",
       "\t<tr><td>3</td><td>46</td></tr>\n",
       "\t<tr><td>3</td><td>35</td></tr>\n",
       "\t<tr><td>3</td><td>98</td></tr>\n",
       "\t<tr><td>3</td><td>86</td></tr>\n",
       "\t<tr><td>3</td><td>85</td></tr>\n",
       "\t<tr><td>3</td><td>73</td></tr>\n",
       "\t<tr><td>3</td><td>98</td></tr>\n",
       "\t<tr><td>3</td><td>99</td></tr>\n",
       "\t<tr><td>3</td><td>39</td></tr>\n",
       "\t<tr><td>3</td><td>50</td></tr>\n",
       "\t<tr><td>3</td><td>87</td></tr>\n",
       "\t<tr><td>3</td><td>67</td></tr>\n",
       "\t<tr><td>3</td><td>57</td></tr>\n",
       "\t<tr><td>3</td><td>80</td></tr>\n",
       "\t<tr><td>3</td><td>92</td></tr>\n",
       "\t<tr><td>3</td><td>41</td></tr>\n",
       "\t<tr><td>3</td><td>82</td></tr>\n",
       "</tbody>\n",
       "</table>\n"
      ],
      "text/latex": [
       "A data.frame: 87 × 2\n",
       "\\begin{tabular}{ll}\n",
       " Class & Score\\\\\n",
       " <int> & <int>\\\\\n",
       "\\hline\n",
       "\t 1 & 76\\\\\n",
       "\t 1 & 54\\\\\n",
       "\t 1 & 62\\\\\n",
       "\t 1 & 46\\\\\n",
       "\t 1 & 53\\\\\n",
       "\t 1 & 64\\\\\n",
       "\t 1 & 42\\\\\n",
       "\t 1 & 96\\\\\n",
       "\t 1 & 87\\\\\n",
       "\t 1 & 92\\\\\n",
       "\t 1 & 89\\\\\n",
       "\t 1 & 63\\\\\n",
       "\t 1 & 39\\\\\n",
       "\t 1 & 30\\\\\n",
       "\t 1 & 85\\\\\n",
       "\t 1 & 31\\\\\n",
       "\t 1 & 60\\\\\n",
       "\t 1 & 63\\\\\n",
       "\t 1 & 94\\\\\n",
       "\t 1 & 29\\\\\n",
       "\t 1 & 47\\\\\n",
       "\t 1 & 53\\\\\n",
       "\t 1 & 33\\\\\n",
       "\t 1 & 56\\\\\n",
       "\t 1 & 46\\\\\n",
       "\t 1 & 97\\\\\n",
       "\t 1 & 54\\\\\n",
       "\t 1 & 43\\\\\n",
       "\t 1 & 79\\\\\n",
       "\t 2 & 56\\\\\n",
       "\t ⋮ & ⋮\\\\\n",
       "\t 2 & 65\\\\\n",
       "\t 3 & 57\\\\\n",
       "\t 3 & 39\\\\\n",
       "\t 3 & 84\\\\\n",
       "\t 3 & 63\\\\\n",
       "\t 3 & 84\\\\\n",
       "\t 3 & 54\\\\\n",
       "\t 3 & 86\\\\\n",
       "\t 3 & 50\\\\\n",
       "\t 3 & 93\\\\\n",
       "\t 3 & 30\\\\\n",
       "\t 3 & 63\\\\\n",
       "\t 3 & 66\\\\\n",
       "\t 3 & 46\\\\\n",
       "\t 3 & 35\\\\\n",
       "\t 3 & 98\\\\\n",
       "\t 3 & 86\\\\\n",
       "\t 3 & 85\\\\\n",
       "\t 3 & 73\\\\\n",
       "\t 3 & 98\\\\\n",
       "\t 3 & 99\\\\\n",
       "\t 3 & 39\\\\\n",
       "\t 3 & 50\\\\\n",
       "\t 3 & 87\\\\\n",
       "\t 3 & 67\\\\\n",
       "\t 3 & 57\\\\\n",
       "\t 3 & 80\\\\\n",
       "\t 3 & 92\\\\\n",
       "\t 3 & 41\\\\\n",
       "\t 3 & 82\\\\\n",
       "\\end{tabular}\n"
      ],
      "text/markdown": [
       "\n",
       "A data.frame: 87 × 2\n",
       "\n",
       "| Class &lt;int&gt; | Score &lt;int&gt; |\n",
       "|---|---|\n",
       "| 1 | 76 |\n",
       "| 1 | 54 |\n",
       "| 1 | 62 |\n",
       "| 1 | 46 |\n",
       "| 1 | 53 |\n",
       "| 1 | 64 |\n",
       "| 1 | 42 |\n",
       "| 1 | 96 |\n",
       "| 1 | 87 |\n",
       "| 1 | 92 |\n",
       "| 1 | 89 |\n",
       "| 1 | 63 |\n",
       "| 1 | 39 |\n",
       "| 1 | 30 |\n",
       "| 1 | 85 |\n",
       "| 1 | 31 |\n",
       "| 1 | 60 |\n",
       "| 1 | 63 |\n",
       "| 1 | 94 |\n",
       "| 1 | 29 |\n",
       "| 1 | 47 |\n",
       "| 1 | 53 |\n",
       "| 1 | 33 |\n",
       "| 1 | 56 |\n",
       "| 1 | 46 |\n",
       "| 1 | 97 |\n",
       "| 1 | 54 |\n",
       "| 1 | 43 |\n",
       "| 1 | 79 |\n",
       "| 2 | 56 |\n",
       "| ⋮ | ⋮ |\n",
       "| 2 | 65 |\n",
       "| 3 | 57 |\n",
       "| 3 | 39 |\n",
       "| 3 | 84 |\n",
       "| 3 | 63 |\n",
       "| 3 | 84 |\n",
       "| 3 | 54 |\n",
       "| 3 | 86 |\n",
       "| 3 | 50 |\n",
       "| 3 | 93 |\n",
       "| 3 | 30 |\n",
       "| 3 | 63 |\n",
       "| 3 | 66 |\n",
       "| 3 | 46 |\n",
       "| 3 | 35 |\n",
       "| 3 | 98 |\n",
       "| 3 | 86 |\n",
       "| 3 | 85 |\n",
       "| 3 | 73 |\n",
       "| 3 | 98 |\n",
       "| 3 | 99 |\n",
       "| 3 | 39 |\n",
       "| 3 | 50 |\n",
       "| 3 | 87 |\n",
       "| 3 | 67 |\n",
       "| 3 | 57 |\n",
       "| 3 | 80 |\n",
       "| 3 | 92 |\n",
       "| 3 | 41 |\n",
       "| 3 | 82 |\n",
       "\n"
      ],
      "text/plain": [
       "   Class Score\n",
       "1  1     76   \n",
       "2  1     54   \n",
       "3  1     62   \n",
       "4  1     46   \n",
       "5  1     53   \n",
       "6  1     64   \n",
       "7  1     42   \n",
       "8  1     96   \n",
       "9  1     87   \n",
       "10 1     92   \n",
       "11 1     89   \n",
       "12 1     63   \n",
       "13 1     39   \n",
       "14 1     30   \n",
       "15 1     85   \n",
       "16 1     31   \n",
       "17 1     60   \n",
       "18 1     63   \n",
       "19 1     94   \n",
       "20 1     29   \n",
       "21 1     47   \n",
       "22 1     53   \n",
       "23 1     33   \n",
       "24 1     56   \n",
       "25 1     46   \n",
       "26 1     97   \n",
       "27 1     54   \n",
       "28 1     43   \n",
       "29 1     79   \n",
       "30 2     56   \n",
       "⋮  ⋮     ⋮    \n",
       "58 2     65   \n",
       "59 3     57   \n",
       "60 3     39   \n",
       "61 3     84   \n",
       "62 3     63   \n",
       "63 3     84   \n",
       "64 3     54   \n",
       "65 3     86   \n",
       "66 3     50   \n",
       "67 3     93   \n",
       "68 3     30   \n",
       "69 3     63   \n",
       "70 3     66   \n",
       "71 3     46   \n",
       "72 3     35   \n",
       "73 3     98   \n",
       "74 3     86   \n",
       "75 3     85   \n",
       "76 3     73   \n",
       "77 3     98   \n",
       "78 3     99   \n",
       "79 3     39   \n",
       "80 3     50   \n",
       "81 3     87   \n",
       "82 3     67   \n",
       "83 3     57   \n",
       "84 3     80   \n",
       "85 3     92   \n",
       "86 3     41   \n",
       "87 3     82   "
      ]
     },
     "metadata": {},
     "output_type": "display_data"
    }
   ],
   "source": [
    "dat"
   ]
  },
  {
   "cell_type": "code",
   "execution_count": 4,
   "metadata": {},
   "outputs": [],
   "source": [
    "dat$Class <- factor(dat$Class)"
   ]
  },
  {
   "cell_type": "code",
   "execution_count": 5,
   "metadata": {},
   "outputs": [
    {
     "data": {
      "text/plain": [
       "\n",
       " 1  2  3 \n",
       "29 29 29 "
      ]
     },
     "metadata": {},
     "output_type": "display_data"
    },
    {
     "data": {
      "text/html": [
       "<style>\n",
       ".dl-inline {width: auto; margin:0; padding: 0}\n",
       ".dl-inline>dt, .dl-inline>dd {float: none; width: auto; display: inline-block}\n",
       ".dl-inline>dt::after {content: \":\\0020\"; padding-right: .5ex}\n",
       ".dl-inline>dt:not(:first-of-type) {padding-left: .5ex}\n",
       "</style><dl class=dl-inline><dt>1</dt><dd>60.7931034482759</dd><dt>2</dt><dd>64.0689655172414</dd><dt>3</dt><dd>68.4137931034483</dd></dl>\n"
      ],
      "text/latex": [
       "\\begin{description*}\n",
       "\\item[1] 60.7931034482759\n",
       "\\item[2] 64.0689655172414\n",
       "\\item[3] 68.4137931034483\n",
       "\\end{description*}\n"
      ],
      "text/markdown": [
       "1\n",
       ":   60.79310344827592\n",
       ":   64.06896551724143\n",
       ":   68.4137931034483\n",
       "\n"
      ],
      "text/plain": [
       "       1        2        3 \n",
       "60.79310 64.06897 68.41379 "
      ]
     },
     "metadata": {},
     "output_type": "display_data"
    },
    {
     "data": {
      "text/html": [
       "<style>\n",
       ".dl-inline {width: auto; margin:0; padding: 0}\n",
       ".dl-inline>dt, .dl-inline>dd {float: none; width: auto; display: inline-block}\n",
       ".dl-inline>dt::after {content: \":\\0020\"; padding-right: .5ex}\n",
       ".dl-inline>dt:not(:first-of-type) {padding-left: .5ex}\n",
       "</style><dl class=dl-inline><dt>1</dt><dd>21.4715414815998</dd><dt>2</dt><dd>20.3977082649756</dd><dt>3</dt><dd>21.298083819542</dd></dl>\n"
      ],
      "text/latex": [
       "\\begin{description*}\n",
       "\\item[1] 21.4715414815998\n",
       "\\item[2] 20.3977082649756\n",
       "\\item[3] 21.298083819542\n",
       "\\end{description*}\n"
      ],
      "text/markdown": [
       "1\n",
       ":   21.47154148159982\n",
       ":   20.39770826497563\n",
       ":   21.298083819542\n",
       "\n"
      ],
      "text/plain": [
       "       1        2        3 \n",
       "21.47154 20.39771 21.29808 "
      ]
     },
     "metadata": {},
     "output_type": "display_data"
    }
   ],
   "source": [
    "table(dat$Class)                    # 各グループの人数確認\n",
    "tapply(dat$Score, dat$Class, mean)  # 各グループの平均\n",
    "tapply(dat$Score, dat$Class, sd)    # 各グループの標準偏差"
   ]
  },
  {
   "cell_type": "code",
   "execution_count": null,
   "metadata": {},
   "outputs": [],
   "source": [
    "install.packages(\"psych\")"
   ]
  },
  {
   "cell_type": "code",
   "execution_count": 7,
   "metadata": {},
   "outputs": [
    {
     "name": "stderr",
     "output_type": "stream",
     "text": [
      "also installing the dependencies ‘tmvnsim’, ‘mnormt’\n",
      "\n",
      "\n",
      "Updating HTML index of packages in '.Library'\n",
      "\n",
      "Making 'packages.html' ...\n",
      " done\n",
      "\n",
      "Warning message:\n",
      "“describe.by is deprecated.  Please use the describeBy function”\n"
     ]
    },
    {
     "data": {
      "text/plain": [
       "\n",
       " Descriptive statistics by group \n",
       ": 1\n",
       "   vars  n  mean    sd median trimmed   mad min max range skew kurtosis   se\n",
       "X1    1 29 60.79 21.47     56   60.44 20.76  29  97    68 0.28    -1.23 3.99\n",
       "------------------------------------------------------------ \n",
       ": 2\n",
       "   vars  n  mean   sd median trimmed   mad min max range  skew kurtosis   se\n",
       "X1    1 29 64.07 20.4     64   64.28 26.69  29  95    66 -0.02    -1.39 3.79\n",
       "------------------------------------------------------------ \n",
       ": 3\n",
       "   vars  n  mean   sd median trimmed   mad min max range  skew kurtosis   se\n",
       "X1    1 29 68.41 21.3     67   68.88 26.69  30  99    69 -0.19    -1.38 3.95"
      ]
     },
     "metadata": {},
     "output_type": "display_data"
    }
   ],
   "source": [
    "# psychパッケージを利用する場合\n",
    "library(psych)\n",
    "describe.by(dat$Score, list(dat$Class))"
   ]
  },
  {
   "cell_type": "code",
   "execution_count": null,
   "metadata": {},
   "outputs": [],
   "source": []
  }
 ],
 "metadata": {
  "kernelspec": {
   "display_name": "R",
   "language": "R",
   "name": "ir"
  },
  "language_info": {
   "codemirror_mode": "r",
   "file_extension": ".r",
   "mimetype": "text/x-r-source",
   "name": "R",
   "pygments_lexer": "r",
   "version": "3.6.3"
  }
 },
 "nbformat": 4,
 "nbformat_minor": 4
}
