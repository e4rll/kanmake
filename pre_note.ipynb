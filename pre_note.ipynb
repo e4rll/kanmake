{
 "cells": [
  {
   "cell_type": "markdown",
   "metadata": {},
   "source": [
    "# 分散分析 お試しver."
   ]
  },
  {
   "cell_type": "markdown",
   "metadata": {},
   "source": [
    "### 分散分析\n",
    "\n",
    "ソース１：https://datacoach.me/series/statistics/r-anova/ <br>\n",
    "ソース２：http://mizumot.com/handbook/?page_id=219"
   ]
  },
  {
   "cell_type": "markdown",
   "metadata": {},
   "source": [
    "## 分散分析 ソース１"
   ]
  },
  {
   "cell_type": "code",
   "execution_count": 11,
   "metadata": {},
   "outputs": [
    {
     "name": "stdout",
     "output_type": "stream",
     "text": [
      "'data.frame':\t72 obs. of  2 variables:\n",
      " $ count: num  10 7 20 14 14 12 10 23 17 20 ...\n",
      " $ spray: Factor w/ 6 levels \"A\",\"B\",\"C\",\"D\",..: 1 1 1 1 1 1 1 1 1 1 ...\n"
     ]
    },
    {
     "data": {
      "image/png": "[encoded data removed]",
      "text/plain": [
       "plot without title"
      ]
     },
     "metadata": {
      "image/png": {
       "height": 420,
       "width": 420
      },
      "text/plain": {
       "height": 420,
       "width": 420
      }
     },
     "output_type": "display_data"
    }
   ],
   "source": [
    "data(\"InsectSprays\")\n",
    "str(InsectSprays)\n",
    "plot(count ~ spray, data = InsectSprays)\n",
    "#boxplot(InsectSprays[,1]~InsectSprays[,2])"
   ]
  },
  {
   "cell_type": "code",
   "execution_count": 14,
   "metadata": {},
   "outputs": [
    {
     "data": {
      "text/html": [
       "<table>\n",
       "<caption>A data.frame: 72 × 2</caption>\n",
       "<thead>\n",
       "\t<tr><th scope=col>count</th><th scope=col>spray</th></tr>\n",
       "\t<tr><th scope=col>&lt;dbl&gt;</th><th scope=col>&lt;fct&gt;</th></tr>\n",
       "</thead>\n",
       "<tbody>\n",
       "\t<tr><td>10</td><td>A</td></tr>\n",
       "\t<tr><td> 7</td><td>A</td></tr>\n",
       "\t<tr><td>20</td><td>A</td></tr>\n",
       "\t<tr><td>14</td><td>A</td></tr>\n",
       "\t<tr><td>14</td><td>A</td></tr>\n",
       "\t<tr><td>12</td><td>A</td></tr>\n",
       "\t<tr><td>10</td><td>A</td></tr>\n",
       "\t<tr><td>23</td><td>A</td></tr>\n",
       "\t<tr><td>17</td><td>A</td></tr>\n",
       "\t<tr><td>20</td><td>A</td></tr>\n",
       "\t<tr><td>14</td><td>A</td></tr>\n",
       "\t<tr><td>13</td><td>A</td></tr>\n",
       "\t<tr><td>11</td><td>B</td></tr>\n",
       "\t<tr><td>17</td><td>B</td></tr>\n",
       "\t<tr><td>21</td><td>B</td></tr>\n",
       "\t<tr><td>11</td><td>B</td></tr>\n",
       "\t<tr><td>16</td><td>B</td></tr>\n",
       "\t<tr><td>14</td><td>B</td></tr>\n",
       "\t<tr><td>17</td><td>B</td></tr>\n",
       "\t<tr><td>17</td><td>B</td></tr>\n",
       "\t<tr><td>19</td><td>B</td></tr>\n",
       "\t<tr><td>21</td><td>B</td></tr>\n",
       "\t<tr><td> 7</td><td>B</td></tr>\n",
       "\t<tr><td>13</td><td>B</td></tr>\n",
       "\t<tr><td> 0</td><td>C</td></tr>\n",
       "\t<tr><td> 1</td><td>C</td></tr>\n",
       "\t<tr><td> 7</td><td>C</td></tr>\n",
       "\t<tr><td> 2</td><td>C</td></tr>\n",
       "\t<tr><td> 3</td><td>C</td></tr>\n",
       "\t<tr><td> 1</td><td>C</td></tr>\n",
       "\t<tr><td>⋮</td><td>⋮</td></tr>\n",
       "\t<tr><td> 5</td><td>D</td></tr>\n",
       "\t<tr><td> 5</td><td>D</td></tr>\n",
       "\t<tr><td> 5</td><td>D</td></tr>\n",
       "\t<tr><td> 5</td><td>D</td></tr>\n",
       "\t<tr><td> 2</td><td>D</td></tr>\n",
       "\t<tr><td> 4</td><td>D</td></tr>\n",
       "\t<tr><td> 3</td><td>E</td></tr>\n",
       "\t<tr><td> 5</td><td>E</td></tr>\n",
       "\t<tr><td> 3</td><td>E</td></tr>\n",
       "\t<tr><td> 5</td><td>E</td></tr>\n",
       "\t<tr><td> 3</td><td>E</td></tr>\n",
       "\t<tr><td> 6</td><td>E</td></tr>\n",
       "\t<tr><td> 1</td><td>E</td></tr>\n",
       "\t<tr><td> 1</td><td>E</td></tr>\n",
       "\t<tr><td> 3</td><td>E</td></tr>\n",
       "\t<tr><td> 2</td><td>E</td></tr>\n",
       "\t<tr><td> 6</td><td>E</td></tr>\n",
       "\t<tr><td> 4</td><td>E</td></tr>\n",
       "\t<tr><td>11</td><td>F</td></tr>\n",
       "\t<tr><td> 9</td><td>F</td></tr>\n",
       "\t<tr><td>15</td><td>F</td></tr>\n",
       "\t<tr><td>22</td><td>F</td></tr>\n",
       "\t<tr><td>15</td><td>F</td></tr>\n",
       "\t<tr><td>16</td><td>F</td></tr>\n",
       "\t<tr><td>13</td><td>F</td></tr>\n",
       "\t<tr><td>10</td><td>F</td></tr>\n",
       "\t<tr><td>26</td><td>F</td></tr>\n",
       "\t<tr><td>26</td><td>F</td></tr>\n",
       "\t<tr><td>24</td><td>F</td></tr>\n",
       "\t<tr><td>13</td><td>F</td></tr>\n",
       "</tbody>\n",
       "</table>\n"
      ],
      "text/latex": [
       "A data.frame: 72 × 2\n",
       "\\begin{tabular}{ll}\n",
       " count & spray\\\\\n",
       " <dbl> & <fct>\\\\\n",
       "\\hline\n",
       "\t 10 & A\\\\\n",
       "\t  7 & A\\\\\n",
       "\t 20 & A\\\\\n",
       "\t 14 & A\\\\\n",
       "\t 14 & A\\\\\n",
       "\t 12 & A\\\\\n",
       "\t 10 & A\\\\\n",
       "\t 23 & A\\\\\n",
       "\t 17 & A\\\\\n",
       "\t 20 & A\\\\\n",
       "\t 14 & A\\\\\n",
       "\t 13 & A\\\\\n",
       "\t 11 & B\\\\\n",
       "\t 17 & B\\\\\n",
       "\t 21 & B\\\\\n",
       "\t 11 & B\\\\\n",
       "\t 16 & B\\\\\n",
       "\t 14 & B\\\\\n",
       "\t 17 & B\\\\\n",
       "\t 17 & B\\\\\n",
       "\t 19 & B\\\\\n",
       "\t 21 & B\\\\\n",
       "\t  7 & B\\\\\n",
       "\t 13 & B\\\\\n",
       "\t  0 & C\\\\\n",
       "\t  1 & C\\\\\n",
       "\t  7 & C\\\\\n",
       "\t  2 & C\\\\\n",
       "\t  3 & C\\\\\n",
       "\t  1 & C\\\\\n",
       "\t ⋮ & ⋮\\\\\n",
       "\t  5 & D\\\\\n",
       "\t  5 & D\\\\\n",
       "\t  5 & D\\\\\n",
       "\t  5 & D\\\\\n",
       "\t  2 & D\\\\\n",
       "\t  4 & D\\\\\n",
       "\t  3 & E\\\\\n",
       "\t  5 & E\\\\\n",
       "\t  3 & E\\\\\n",
       "\t  5 & E\\\\\n",
       "\t  3 & E\\\\\n",
       "\t  6 & E\\\\\n",
       "\t  1 & E\\\\\n",
       "\t  1 & E\\\\\n",
       "\t  3 & E\\\\\n",
       "\t  2 & E\\\\\n",
       "\t  6 & E\\\\\n",
       "\t  4 & E\\\\\n",
       "\t 11 & F\\\\\n",
       "\t  9 & F\\\\\n",
       "\t 15 & F\\\\\n",
       "\t 22 & F\\\\\n",
       "\t 15 & F\\\\\n",
       "\t 16 & F\\\\\n",
       "\t 13 & F\\\\\n",
       "\t 10 & F\\\\\n",
       "\t 26 & F\\\\\n",
       "\t 26 & F\\\\\n",
       "\t 24 & F\\\\\n",
       "\t 13 & F\\\\\n",
       "\\end{tabular}\n"
      ],
      "text/markdown": [
       "\n",
       "A data.frame: 72 × 2\n",
       "\n",
       "| count &lt;dbl&gt; | spray &lt;fct&gt; |\n",
       "|---|---|\n",
       "| 10 | A |\n",
       "|  7 | A |\n",
       "| 20 | A |\n",
       "| 14 | A |\n",
       "| 14 | A |\n",
       "| 12 | A |\n",
       "| 10 | A |\n",
       "| 23 | A |\n",
       "| 17 | A |\n",
       "| 20 | A |\n",
       "| 14 | A |\n",
       "| 13 | A |\n",
       "| 11 | B |\n",
       "| 17 | B |\n",
       "| 21 | B |\n",
       "| 11 | B |\n",
       "| 16 | B |\n",
       "| 14 | B |\n",
       "| 17 | B |\n",
       "| 17 | B |\n",
       "| 19 | B |\n",
       "| 21 | B |\n",
       "|  7 | B |\n",
       "| 13 | B |\n",
       "|  0 | C |\n",
       "|  1 | C |\n",
       "|  7 | C |\n",
       "|  2 | C |\n",
       "|  3 | C |\n",
       "|  1 | C |\n",
       "| ⋮ | ⋮ |\n",
       "|  5 | D |\n",
       "|  5 | D |\n",
       "|  5 | D |\n",
       "|  5 | D |\n",
       "|  2 | D |\n",
       "|  4 | D |\n",
       "|  3 | E |\n",
       "|  5 | E |\n",
       "|  3 | E |\n",
       "|  5 | E |\n",
       "|  3 | E |\n",
       "|  6 | E |\n",
       "|  1 | E |\n",
       "|  1 | E |\n",
       "|  3 | E |\n",
       "|  2 | E |\n",
       "|  6 | E |\n",
       "|  4 | E |\n",
       "| 11 | F |\n",
       "|  9 | F |\n",
       "| 15 | F |\n",
       "| 22 | F |\n",
       "| 15 | F |\n",
       "| 16 | F |\n",
       "| 13 | F |\n",
       "| 10 | F |\n",
       "| 26 | F |\n",
       "| 26 | F |\n",
       "| 24 | F |\n",
       "| 13 | F |\n",
       "\n"
      ],
      "text/plain": [
       "   count spray\n",
       "1  10    A    \n",
       "2   7    A    \n",
       "3  20    A    \n",
       "4  14    A    \n",
       "5  14    A    \n",
       "6  12    A    \n",
       "7  10    A    \n",
       "8  23    A    \n",
       "9  17    A    \n",
       "10 20    A    \n",
       "11 14    A    \n",
       "12 13    A    \n",
       "13 11    B    \n",
       "14 17    B    \n",
       "15 21    B    \n",
       "16 11    B    \n",
       "17 16    B    \n",
       "18 14    B    \n",
       "19 17    B    \n",
       "20 17    B    \n",
       "21 19    B    \n",
       "22 21    B    \n",
       "23  7    B    \n",
       "24 13    B    \n",
       "25  0    C    \n",
       "26  1    C    \n",
       "27  7    C    \n",
       "28  2    C    \n",
       "29  3    C    \n",
       "30  1    C    \n",
       "⋮  ⋮     ⋮    \n",
       "43  5    D    \n",
       "44  5    D    \n",
       "45  5    D    \n",
       "46  5    D    \n",
       "47  2    D    \n",
       "48  4    D    \n",
       "49  3    E    \n",
       "50  5    E    \n",
       "51  3    E    \n",
       "52  5    E    \n",
       "53  3    E    \n",
       "54  6    E    \n",
       "55  1    E    \n",
       "56  1    E    \n",
       "57  3    E    \n",
       "58  2    E    \n",
       "59  6    E    \n",
       "60  4    E    \n",
       "61 11    F    \n",
       "62  9    F    \n",
       "63 15    F    \n",
       "64 22    F    \n",
       "65 15    F    \n",
       "66 16    F    \n",
       "67 13    F    \n",
       "68 10    F    \n",
       "69 26    F    \n",
       "70 26    F    \n",
       "71 24    F    \n",
       "72 13    F    "
      ]
     },
     "metadata": {},
     "output_type": "display_data"
    }
   ],
   "source": [
    "InsectSprays"
   ]
  },
  {
   "cell_type": "code",
   "execution_count": 12,
   "metadata": {},
   "outputs": [
    {
     "data": {
      "text/plain": [
       "            Df Sum Sq Mean Sq F value Pr(>F)    \n",
       "spray        5   2669   533.8    34.7 <2e-16 ***\n",
       "Residuals   66   1015    15.4                   \n",
       "---\n",
       "Signif. codes:  0 ‘***’ 0.001 ‘**’ 0.01 ‘*’ 0.05 ‘.’ 0.1 ‘ ’ 1"
      ]
     },
     "metadata": {},
     "output_type": "display_data"
    }
   ],
   "source": [
    "#一元配置分散分析\n",
    "summary(aov(count~spray,data=InsectSprays))"
   ]
  },
  {
   "cell_type": "code",
   "execution_count": 13,
   "metadata": {},
   "outputs": [
    {
     "data": {
      "text/plain": [
       "\n",
       "\tBartlett test of homogeneity of variances\n",
       "\n",
       "data:  count by spray\n",
       "Bartlett's K-squared = 25.96, df = 5, p-value = 9.085e-05\n"
      ]
     },
     "metadata": {},
     "output_type": "display_data"
    }
   ],
   "source": [
    "#bartlett.test(InsectSprays$count, InsectSprays$spray)\n",
    "bartlett.test(count ~ spray, data = InsectSprays)"
   ]
  },
  {
   "cell_type": "markdown",
   "metadata": {},
   "source": [
    "## 分散分析 ソース２"
   ]
  },
  {
   "cell_type": "code",
   "execution_count": 3,
   "metadata": {},
   "outputs": [],
   "source": [
    "dat <- read.csv(\"input/ch06one-way.csv\", header=TRUE, fileEncoding=\"CP932\")"
   ]
  },
  {
   "cell_type": "code",
   "execution_count": 2,
   "metadata": {
    "collapsed": true,
    "jupyter": {
     "outputs_hidden": true
    }
   },
   "outputs": [
    {
     "data": {
      "text/html": [
       "<table>\n",
       "<caption>A data.frame: 87 × 2</caption>\n",
       "<thead>\n",
       "\t<tr><th scope=col>Class</th><th scope=col>Score</th></tr>\n",
       "\t<tr><th scope=col>&lt;int&gt;</th><th scope=col>&lt;int&gt;</th></tr>\n",
       "</thead>\n",
       "<tbody>\n",
       "\t<tr><td>1</td><td>76</td></tr>\n",
       "\t<tr><td>1</td><td>54</td></tr>\n",
       "\t<tr><td>1</td><td>62</td></tr>\n",
       "\t<tr><td>1</td><td>46</td></tr>\n",
       "\t<tr><td>1</td><td>53</td></tr>\n",
       "\t<tr><td>1</td><td>64</td></tr>\n",
       "\t<tr><td>1</td><td>42</td></tr>\n",
       "\t<tr><td>1</td><td>96</td></tr>\n",
       "\t<tr><td>1</td><td>87</td></tr>\n",
       "\t<tr><td>1</td><td>92</td></tr>\n",
       "\t<tr><td>1</td><td>89</td></tr>\n",
       "\t<tr><td>1</td><td>63</td></tr>\n",
       "\t<tr><td>1</td><td>39</td></tr>\n",
       "\t<tr><td>1</td><td>30</td></tr>\n",
       "\t<tr><td>1</td><td>85</td></tr>\n",
       "\t<tr><td>1</td><td>31</td></tr>\n",
       "\t<tr><td>1</td><td>60</td></tr>\n",
       "\t<tr><td>1</td><td>63</td></tr>\n",
       "\t<tr><td>1</td><td>94</td></tr>\n",
       "\t<tr><td>1</td><td>29</td></tr>\n",
       "\t<tr><td>1</td><td>47</td></tr>\n",
       "\t<tr><td>1</td><td>53</td></tr>\n",
       "\t<tr><td>1</td><td>33</td></tr>\n",
       "\t<tr><td>1</td><td>56</td></tr>\n",
       "\t<tr><td>1</td><td>46</td></tr>\n",
       "\t<tr><td>1</td><td>97</td></tr>\n",
       "\t<tr><td>1</td><td>54</td></tr>\n",
       "\t<tr><td>1</td><td>43</td></tr>\n",
       "\t<tr><td>1</td><td>79</td></tr>\n",
       "\t<tr><td>2</td><td>56</td></tr>\n",
       "\t<tr><td>⋮</td><td>⋮</td></tr>\n",
       "\t<tr><td>2</td><td>65</td></tr>\n",
       "\t<tr><td>3</td><td>57</td></tr>\n",
       "\t<tr><td>3</td><td>39</td></tr>\n",
       "\t<tr><td>3</td><td>84</td></tr>\n",
       "\t<tr><td>3</td><td>63</td></tr>\n",
       "\t<tr><td>3</td><td>84</td></tr>\n",
       "\t<tr><td>3</td><td>54</td></tr>\n",
       "\t<tr><td>3</td><td>86</td></tr>\n",
       "\t<tr><td>3</td><td>50</td></tr>\n",
       "\t<tr><td>3</td><td>93</td></tr>\n",
       "\t<tr><td>3</td><td>30</td></tr>\n",
       "\t<tr><td>3</td><td>63</td></tr>\n",
       "\t<tr><td>3</td><td>66</td></tr>\n",
       "\t<tr><td>3</td><td>46</td></tr>\n",
       "\t<tr><td>3</td><td>35</td></tr>\n",
       "\t<tr><td>3</td><td>98</td></tr>\n",
       "\t<tr><td>3</td><td>86</td></tr>\n",
       "\t<tr><td>3</td><td>85</td></tr>\n",
       "\t<tr><td>3</td><td>73</td></tr>\n",
       "\t<tr><td>3</td><td>98</td></tr>\n",
       "\t<tr><td>3</td><td>99</td></tr>\n",
       "\t<tr><td>3</td><td>39</td></tr>\n",
       "\t<tr><td>3</td><td>50</td></tr>\n",
       "\t<tr><td>3</td><td>87</td></tr>\n",
       "\t<tr><td>3</td><td>67</td></tr>\n",
       "\t<tr><td>3</td><td>57</td></tr>\n",
       "\t<tr><td>3</td><td>80</td></tr>\n",
       "\t<tr><td>3</td><td>92</td></tr>\n",
       "\t<tr><td>3</td><td>41</td></tr>\n",
       "\t<tr><td>3</td><td>82</td></tr>\n",
       "</tbody>\n",
       "</table>\n"
      ],
      "text/latex": [
       "A data.frame: 87 × 2\n",
       "\\begin{tabular}{ll}\n",
       " Class & Score\\\\\n",
       " <int> & <int>\\\\\n",
       "\\hline\n",
       "\t 1 & 76\\\\\n",
       "\t 1 & 54\\\\\n",
       "\t 1 & 62\\\\\n",
       "\t 1 & 46\\\\\n",
       "\t 1 & 53\\\\\n",
       "\t 1 & 64\\\\\n",
       "\t 1 & 42\\\\\n",
       "\t 1 & 96\\\\\n",
       "\t 1 & 87\\\\\n",
       "\t 1 & 92\\\\\n",
       "\t 1 & 89\\\\\n",
       "\t 1 & 63\\\\\n",
       "\t 1 & 39\\\\\n",
       "\t 1 & 30\\\\\n",
       "\t 1 & 85\\\\\n",
       "\t 1 & 31\\\\\n",
       "\t 1 & 60\\\\\n",
       "\t 1 & 63\\\\\n",
       "\t 1 & 94\\\\\n",
       "\t 1 & 29\\\\\n",
       "\t 1 & 47\\\\\n",
       "\t 1 & 53\\\\\n",
       "\t 1 & 33\\\\\n",
       "\t 1 & 56\\\\\n",
       "\t 1 & 46\\\\\n",
       "\t 1 & 97\\\\\n",
       "\t 1 & 54\\\\\n",
       "\t 1 & 43\\\\\n",
       "\t 1 & 79\\\\\n",
       "\t 2 & 56\\\\\n",
       "\t ⋮ & ⋮\\\\\n",
       "\t 2 & 65\\\\\n",
       "\t 3 & 57\\\\\n",
       "\t 3 & 39\\\\\n",
       "\t 3 & 84\\\\\n",
       "\t 3 & 63\\\\\n",
       "\t 3 & 84\\\\\n",
       "\t 3 & 54\\\\\n",
       "\t 3 & 86\\\\\n",
       "\t 3 & 50\\\\\n",
       "\t 3 & 93\\\\\n",
       "\t 3 & 30\\\\\n",
       "\t 3 & 63\\\\\n",
       "\t 3 & 66\\\\\n",
       "\t 3 & 46\\\\\n",
       "\t 3 & 35\\\\\n",
       "\t 3 & 98\\\\\n",
       "\t 3 & 86\\\\\n",
       "\t 3 & 85\\\\\n",
       "\t 3 & 73\\\\\n",
       "\t 3 & 98\\\\\n",
       "\t 3 & 99\\\\\n",
       "\t 3 & 39\\\\\n",
       "\t 3 & 50\\\\\n",
       "\t 3 & 87\\\\\n",
       "\t 3 & 67\\\\\n",
       "\t 3 & 57\\\\\n",
       "\t 3 & 80\\\\\n",
       "\t 3 & 92\\\\\n",
       "\t 3 & 41\\\\\n",
       "\t 3 & 82\\\\\n",
       "\\end{tabular}\n"
      ],
      "text/markdown": [
       "\n",
       "A data.frame: 87 × 2\n",
       "\n",
       "| Class &lt;int&gt; | Score &lt;int&gt; |\n",
       "|---|---|\n",
       "| 1 | 76 |\n",
       "| 1 | 54 |\n",
       "| 1 | 62 |\n",
       "| 1 | 46 |\n",
       "| 1 | 53 |\n",
       "| 1 | 64 |\n",
       "| 1 | 42 |\n",
       "| 1 | 96 |\n",
       "| 1 | 87 |\n",
       "| 1 | 92 |\n",
       "| 1 | 89 |\n",
       "| 1 | 63 |\n",
       "| 1 | 39 |\n",
       "| 1 | 30 |\n",
       "| 1 | 85 |\n",
       "| 1 | 31 |\n",
       "| 1 | 60 |\n",
       "| 1 | 63 |\n",
       "| 1 | 94 |\n",
       "| 1 | 29 |\n",
       "| 1 | 47 |\n",
       "| 1 | 53 |\n",
       "| 1 | 33 |\n",
       "| 1 | 56 |\n",
       "| 1 | 46 |\n",
       "| 1 | 97 |\n",
       "| 1 | 54 |\n",
       "| 1 | 43 |\n",
       "| 1 | 79 |\n",
       "| 2 | 56 |\n",
       "| ⋮ | ⋮ |\n",
       "| 2 | 65 |\n",
       "| 3 | 57 |\n",
       "| 3 | 39 |\n",
       "| 3 | 84 |\n",
       "| 3 | 63 |\n",
       "| 3 | 84 |\n",
       "| 3 | 54 |\n",
       "| 3 | 86 |\n",
       "| 3 | 50 |\n",
       "| 3 | 93 |\n",
       "| 3 | 30 |\n",
       "| 3 | 63 |\n",
       "| 3 | 66 |\n",
       "| 3 | 46 |\n",
       "| 3 | 35 |\n",
       "| 3 | 98 |\n",
       "| 3 | 86 |\n",
       "| 3 | 85 |\n",
       "| 3 | 73 |\n",
       "| 3 | 98 |\n",
       "| 3 | 99 |\n",
       "| 3 | 39 |\n",
       "| 3 | 50 |\n",
       "| 3 | 87 |\n",
       "| 3 | 67 |\n",
       "| 3 | 57 |\n",
       "| 3 | 80 |\n",
       "| 3 | 92 |\n",
       "| 3 | 41 |\n",
       "| 3 | 82 |\n",
       "\n"
      ],
      "text/plain": [
       "   Class Score\n",
       "1  1     76   \n",
       "2  1     54   \n",
       "3  1     62   \n",
       "4  1     46   \n",
       "5  1     53   \n",
       "6  1     64   \n",
       "7  1     42   \n",
       "8  1     96   \n",
       "9  1     87   \n",
       "10 1     92   \n",
       "11 1     89   \n",
       "12 1     63   \n",
       "13 1     39   \n",
       "14 1     30   \n",
       "15 1     85   \n",
       "16 1     31   \n",
       "17 1     60   \n",
       "18 1     63   \n",
       "19 1     94   \n",
       "20 1     29   \n",
       "21 1     47   \n",
       "22 1     53   \n",
       "23 1     33   \n",
       "24 1     56   \n",
       "25 1     46   \n",
       "26 1     97   \n",
       "27 1     54   \n",
       "28 1     43   \n",
       "29 1     79   \n",
       "30 2     56   \n",
       "⋮  ⋮     ⋮    \n",
       "58 2     65   \n",
       "59 3     57   \n",
       "60 3     39   \n",
       "61 3     84   \n",
       "62 3     63   \n",
       "63 3     84   \n",
       "64 3     54   \n",
       "65 3     86   \n",
       "66 3     50   \n",
       "67 3     93   \n",
       "68 3     30   \n",
       "69 3     63   \n",
       "70 3     66   \n",
       "71 3     46   \n",
       "72 3     35   \n",
       "73 3     98   \n",
       "74 3     86   \n",
       "75 3     85   \n",
       "76 3     73   \n",
       "77 3     98   \n",
       "78 3     99   \n",
       "79 3     39   \n",
       "80 3     50   \n",
       "81 3     87   \n",
       "82 3     67   \n",
       "83 3     57   \n",
       "84 3     80   \n",
       "85 3     92   \n",
       "86 3     41   \n",
       "87 3     82   "
      ]
     },
     "metadata": {},
     "output_type": "display_data"
    }
   ],
   "source": [
    "dat"
   ]
  },
  {
   "cell_type": "code",
   "execution_count": 4,
   "metadata": {},
   "outputs": [],
   "source": [
    "dat$Class <- factor(dat$Class)"
   ]
  },
  {
   "cell_type": "code",
   "execution_count": 5,
   "metadata": {},
   "outputs": [
    {
     "data": {
      "text/plain": [
       "\n",
       " 1  2  3 \n",
       "29 29 29 "
      ]
     },
     "metadata": {},
     "output_type": "display_data"
    },
    {
     "data": {
      "text/html": [
       "<style>\n",
       ".dl-inline {width: auto; margin:0; padding: 0}\n",
       ".dl-inline>dt, .dl-inline>dd {float: none; width: auto; display: inline-block}\n",
       ".dl-inline>dt::after {content: \":\\0020\"; padding-right: .5ex}\n",
       ".dl-inline>dt:not(:first-of-type) {padding-left: .5ex}\n",
       "</style><dl class=dl-inline><dt>1</dt><dd>60.7931034482759</dd><dt>2</dt><dd>64.0689655172414</dd><dt>3</dt><dd>68.4137931034483</dd></dl>\n"
      ],
      "text/latex": [
       "\\begin{description*}\n",
       "\\item[1] 60.7931034482759\n",
       "\\item[2] 64.0689655172414\n",
       "\\item[3] 68.4137931034483\n",
       "\\end{description*}\n"
      ],
      "text/markdown": [
       "1\n",
       ":   60.79310344827592\n",
       ":   64.06896551724143\n",
       ":   68.4137931034483\n",
       "\n"
      ],
      "text/plain": [
       "       1        2        3 \n",
       "60.79310 64.06897 68.41379 "
      ]
     },
     "metadata": {},
     "output_type": "display_data"
    },
    {
     "data": {
      "text/html": [
       "<style>\n",
       ".dl-inline {width: auto; margin:0; padding: 0}\n",
       ".dl-inline>dt, .dl-inline>dd {float: none; width: auto; display: inline-block}\n",
       ".dl-inline>dt::after {content: \":\\0020\"; padding-right: .5ex}\n",
       ".dl-inline>dt:not(:first-of-type) {padding-left: .5ex}\n",
       "</style><dl class=dl-inline><dt>1</dt><dd>21.4715414815998</dd><dt>2</dt><dd>20.3977082649756</dd><dt>3</dt><dd>21.298083819542</dd></dl>\n"
      ],
      "text/latex": [
       "\\begin{description*}\n",
       "\\item[1] 21.4715414815998\n",
       "\\item[2] 20.3977082649756\n",
       "\\item[3] 21.298083819542\n",
       "\\end{description*}\n"
      ],
      "text/markdown": [
       "1\n",
       ":   21.47154148159982\n",
       ":   20.39770826497563\n",
       ":   21.298083819542\n",
       "\n"
      ],
      "text/plain": [
       "       1        2        3 \n",
       "21.47154 20.39771 21.29808 "
      ]
     },
     "metadata": {},
     "output_type": "display_data"
    }
   ],
   "source": [
    "table(dat$Class)                    # 各グループの人数確認\n",
    "tapply(dat$Score, dat$Class, mean)  # 各グループの平均\n",
    "tapply(dat$Score, dat$Class, sd)    # 各グループの標準偏差"
   ]
  },
  {
   "cell_type": "code",
   "execution_count": null,
   "metadata": {},
   "outputs": [],
   "source": [
    "install.packages(\"psych\")"
   ]
  },
  {
   "cell_type": "code",
   "execution_count": 7,
   "metadata": {},
   "outputs": [
    {
     "name": "stderr",
     "output_type": "stream",
     "text": [
      "also installing the dependencies ‘tmvnsim’, ‘mnormt’\n",
      "\n",
      "\n",
      "Updating HTML index of packages in '.Library'\n",
      "\n",
      "Making 'packages.html' ...\n",
      " done\n",
      "\n",
      "Warning message:\n",
      "“describe.by is deprecated.  Please use the describeBy function”\n"
     ]
    },
    {
     "data": {
      "text/plain": [
       "\n",
       " Descriptive statistics by group \n",
       ": 1\n",
       "   vars  n  mean    sd median trimmed   mad min max range skew kurtosis   se\n",
       "X1    1 29 60.79 21.47     56   60.44 20.76  29  97    68 0.28    -1.23 3.99\n",
       "------------------------------------------------------------ \n",
       ": 2\n",
       "   vars  n  mean   sd median trimmed   mad min max range  skew kurtosis   se\n",
       "X1    1 29 64.07 20.4     64   64.28 26.69  29  95    66 -0.02    -1.39 3.79\n",
       "------------------------------------------------------------ \n",
       ": 3\n",
       "   vars  n  mean   sd median trimmed   mad min max range  skew kurtosis   se\n",
       "X1    1 29 68.41 21.3     67   68.88 26.69  30  99    69 -0.19    -1.38 3.95"
      ]
     },
     "metadata": {},
     "output_type": "display_data"
    }
   ],
   "source": [
    "# psychパッケージを利用する場合\n",
    "library(psych)\n",
    "describe.by(dat$Score, list(dat$Class))"
   ]
  },
  {
   "cell_type": "code",
   "execution_count": 10,
   "metadata": {},
   "outputs": [
    {
     "data": {
      "text/plain": [
       "  Tukey multiple comparisons of means\n",
       "    95% family-wise confidence level\n",
       "\n",
       "Fit: aov(formula = Score ~ Class, data = dat)\n",
       "\n",
       "$Class\n",
       "        diff       lwr      upr     p adj\n",
       "2-1 3.275862 -9.920631 16.47235 0.8246325\n",
       "3-1 7.620690 -5.575803 20.81718 0.3570632\n",
       "3-2 4.344828 -8.851665 17.54132 0.7129033\n"
      ]
     },
     "metadata": {},
     "output_type": "display_data"
    }
   ],
   "source": [
    "TukeyHSD(aov(Score~Class, data=dat))"
   ]
  },
  {
   "cell_type": "code",
   "execution_count": null,
   "metadata": {},
   "outputs": [],
   "source": []
  }
 ],
 "metadata": {
  "kernelspec": {
   "display_name": "R",
   "language": "R",
   "name": "ir"
  },
  "language_info": {
   "codemirror_mode": "r",
   "file_extension": ".r",
   "mimetype": "text/x-r-source",
   "name": "R",
   "pygments_lexer": "r",
   "version": "3.6.3"
  }
 },
 "nbformat": 4,
 "nbformat_minor": 4
}
